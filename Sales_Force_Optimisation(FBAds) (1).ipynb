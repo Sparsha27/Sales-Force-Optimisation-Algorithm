{
  "nbformat": 4,
  "nbformat_minor": 0,
  "metadata": {
    "colab": {
      "provenance": []
    },
    "kernelspec": {
      "name": "python3",
      "display_name": "Python 3"
    },
    "language_info": {
      "name": "python"
    }
  },
  "cells": [
    {
      "cell_type": "markdown",
      "source": [
        "### **SALES FORCE OPTIMISATION ALGORITHM**"
      ],
      "metadata": {
        "id": "oxb9ASwEsdcE"
      }
    },
    {
      "cell_type": "markdown",
      "source": [
        "**Import Libraries**"
      ],
      "metadata": {
        "id": "5SiMWqW8sk_P"
      }
    },
    {
      "cell_type": "code",
      "execution_count": 1,
      "metadata": {
        "id": "-aAwmpAoqtva"
      },
      "outputs": [],
      "source": [
        "import pandas as pd\n",
        "import numpy as np\n",
        "import matplotlib.pyplot as plt\n",
        "import seaborn as sns\n",
        "import os\n",
        "for dirname, _, filenames in os.walk('/kaggle/input'):\n",
        "    for filename in filenames:\n",
        "        print(os.path.join(dirname, filename))"
      ]
    },
    {
      "cell_type": "markdown",
      "source": [
        "**Load Dataset**"
      ],
      "metadata": {
        "id": "6C1ZW0vDsuIp"
      }
    },
    {
      "cell_type": "code",
      "source": [
        "ad=pd.read_csv('KAG_conversion_data.csv')"
      ],
      "metadata": {
        "id": "oEsRaqvhq1-k"
      },
      "execution_count": 2,
      "outputs": []
    },
    {
      "cell_type": "markdown",
      "source": [
        "**Exploration**"
      ],
      "metadata": {
        "id": "XvyXEqm6s30m"
      }
    },
    {
      "cell_type": "code",
      "source": [
        "ad.shape"
      ],
      "metadata": {
        "colab": {
          "base_uri": "https://localhost:8080/"
        },
        "id": "AvqcmKJbrA5A",
        "outputId": "937a45df-2fb5-4e69-a260-84b9fc42f62e"
      },
      "execution_count": 3,
      "outputs": [
        {
          "output_type": "execute_result",
          "data": {
            "text/plain": [
              "(1143, 11)"
            ]
          },
          "metadata": {},
          "execution_count": 3
        }
      ]
    },
    {
      "cell_type": "code",
      "source": [
        "ad.describe()"
      ],
      "metadata": {
        "colab": {
          "base_uri": "https://localhost:8080/",
          "height": 364
        },
        "id": "K72AsghIrC6c",
        "outputId": "6a88cf6e-bac0-444b-cbb6-06baaaa81d86"
      },
      "execution_count": 4,
      "outputs": [
        {
          "output_type": "execute_result",
          "data": {
            "text/plain": [
              "              ad_id  xyz_campaign_id  fb_campaign_id     interest  \\\n",
              "count  1.143000e+03      1143.000000     1143.000000  1143.000000   \n",
              "mean   9.872611e+05      1067.382327   133783.989501    32.766404   \n",
              "std    1.939928e+05       121.629393    20500.308622    26.952131   \n",
              "min    7.087460e+05       916.000000   103916.000000     2.000000   \n",
              "25%    7.776325e+05       936.000000   115716.000000    16.000000   \n",
              "50%    1.121185e+06      1178.000000   144549.000000    25.000000   \n",
              "75%    1.121804e+06      1178.000000   144657.500000    31.000000   \n",
              "max    1.314415e+06      1178.000000   179982.000000   114.000000   \n",
              "\n",
              "        Impressions       Clicks        Spent  Total_Conversion  \\\n",
              "count  1.143000e+03  1143.000000  1143.000000       1143.000000   \n",
              "mean   1.867321e+05    33.390201    51.360656          2.855643   \n",
              "std    3.127622e+05    56.892438    86.908418          4.483593   \n",
              "min    8.700000e+01     0.000000     0.000000          0.000000   \n",
              "25%    6.503500e+03     1.000000     1.480000          1.000000   \n",
              "50%    5.150900e+04     8.000000    12.370000          1.000000   \n",
              "75%    2.217690e+05    37.500000    60.025000          3.000000   \n",
              "max    3.052003e+06   421.000000   639.949998         60.000000   \n",
              "\n",
              "       Approved_Conversion  \n",
              "count          1143.000000  \n",
              "mean              0.944007  \n",
              "std               1.737708  \n",
              "min               0.000000  \n",
              "25%               0.000000  \n",
              "50%               1.000000  \n",
              "75%               1.000000  \n",
              "max              21.000000  "
            ],
            "text/html": [
              "\n",
              "  <div id=\"df-17666da6-d6d9-49ee-8815-741cdd0620e7\">\n",
              "    <div class=\"colab-df-container\">\n",
              "      <div>\n",
              "<style scoped>\n",
              "    .dataframe tbody tr th:only-of-type {\n",
              "        vertical-align: middle;\n",
              "    }\n",
              "\n",
              "    .dataframe tbody tr th {\n",
              "        vertical-align: top;\n",
              "    }\n",
              "\n",
              "    .dataframe thead th {\n",
              "        text-align: right;\n",
              "    }\n",
              "</style>\n",
              "<table border=\"1\" class=\"dataframe\">\n",
              "  <thead>\n",
              "    <tr style=\"text-align: right;\">\n",
              "      <th></th>\n",
              "      <th>ad_id</th>\n",
              "      <th>xyz_campaign_id</th>\n",
              "      <th>fb_campaign_id</th>\n",
              "      <th>interest</th>\n",
              "      <th>Impressions</th>\n",
              "      <th>Clicks</th>\n",
              "      <th>Spent</th>\n",
              "      <th>Total_Conversion</th>\n",
              "      <th>Approved_Conversion</th>\n",
              "    </tr>\n",
              "  </thead>\n",
              "  <tbody>\n",
              "    <tr>\n",
              "      <th>count</th>\n",
              "      <td>1.143000e+03</td>\n",
              "      <td>1143.000000</td>\n",
              "      <td>1143.000000</td>\n",
              "      <td>1143.000000</td>\n",
              "      <td>1.143000e+03</td>\n",
              "      <td>1143.000000</td>\n",
              "      <td>1143.000000</td>\n",
              "      <td>1143.000000</td>\n",
              "      <td>1143.000000</td>\n",
              "    </tr>\n",
              "    <tr>\n",
              "      <th>mean</th>\n",
              "      <td>9.872611e+05</td>\n",
              "      <td>1067.382327</td>\n",
              "      <td>133783.989501</td>\n",
              "      <td>32.766404</td>\n",
              "      <td>1.867321e+05</td>\n",
              "      <td>33.390201</td>\n",
              "      <td>51.360656</td>\n",
              "      <td>2.855643</td>\n",
              "      <td>0.944007</td>\n",
              "    </tr>\n",
              "    <tr>\n",
              "      <th>std</th>\n",
              "      <td>1.939928e+05</td>\n",
              "      <td>121.629393</td>\n",
              "      <td>20500.308622</td>\n",
              "      <td>26.952131</td>\n",
              "      <td>3.127622e+05</td>\n",
              "      <td>56.892438</td>\n",
              "      <td>86.908418</td>\n",
              "      <td>4.483593</td>\n",
              "      <td>1.737708</td>\n",
              "    </tr>\n",
              "    <tr>\n",
              "      <th>min</th>\n",
              "      <td>7.087460e+05</td>\n",
              "      <td>916.000000</td>\n",
              "      <td>103916.000000</td>\n",
              "      <td>2.000000</td>\n",
              "      <td>8.700000e+01</td>\n",
              "      <td>0.000000</td>\n",
              "      <td>0.000000</td>\n",
              "      <td>0.000000</td>\n",
              "      <td>0.000000</td>\n",
              "    </tr>\n",
              "    <tr>\n",
              "      <th>25%</th>\n",
              "      <td>7.776325e+05</td>\n",
              "      <td>936.000000</td>\n",
              "      <td>115716.000000</td>\n",
              "      <td>16.000000</td>\n",
              "      <td>6.503500e+03</td>\n",
              "      <td>1.000000</td>\n",
              "      <td>1.480000</td>\n",
              "      <td>1.000000</td>\n",
              "      <td>0.000000</td>\n",
              "    </tr>\n",
              "    <tr>\n",
              "      <th>50%</th>\n",
              "      <td>1.121185e+06</td>\n",
              "      <td>1178.000000</td>\n",
              "      <td>144549.000000</td>\n",
              "      <td>25.000000</td>\n",
              "      <td>5.150900e+04</td>\n",
              "      <td>8.000000</td>\n",
              "      <td>12.370000</td>\n",
              "      <td>1.000000</td>\n",
              "      <td>1.000000</td>\n",
              "    </tr>\n",
              "    <tr>\n",
              "      <th>75%</th>\n",
              "      <td>1.121804e+06</td>\n",
              "      <td>1178.000000</td>\n",
              "      <td>144657.500000</td>\n",
              "      <td>31.000000</td>\n",
              "      <td>2.217690e+05</td>\n",
              "      <td>37.500000</td>\n",
              "      <td>60.025000</td>\n",
              "      <td>3.000000</td>\n",
              "      <td>1.000000</td>\n",
              "    </tr>\n",
              "    <tr>\n",
              "      <th>max</th>\n",
              "      <td>1.314415e+06</td>\n",
              "      <td>1178.000000</td>\n",
              "      <td>179982.000000</td>\n",
              "      <td>114.000000</td>\n",
              "      <td>3.052003e+06</td>\n",
              "      <td>421.000000</td>\n",
              "      <td>639.949998</td>\n",
              "      <td>60.000000</td>\n",
              "      <td>21.000000</td>\n",
              "    </tr>\n",
              "  </tbody>\n",
              "</table>\n",
              "</div>\n",
              "      <button class=\"colab-df-convert\" onclick=\"convertToInteractive('df-17666da6-d6d9-49ee-8815-741cdd0620e7')\"\n",
              "              title=\"Convert this dataframe to an interactive table.\"\n",
              "              style=\"display:none;\">\n",
              "        \n",
              "  <svg xmlns=\"http://www.w3.org/2000/svg\" height=\"24px\"viewBox=\"0 0 24 24\"\n",
              "       width=\"24px\">\n",
              "    <path d=\"M0 0h24v24H0V0z\" fill=\"none\"/>\n",
              "    <path d=\"M18.56 5.44l.94 2.06.94-2.06 2.06-.94-2.06-.94-.94-2.06-.94 2.06-2.06.94zm-11 1L8.5 8.5l.94-2.06 2.06-.94-2.06-.94L8.5 2.5l-.94 2.06-2.06.94zm10 10l.94 2.06.94-2.06 2.06-.94-2.06-.94-.94-2.06-.94 2.06-2.06.94z\"/><path d=\"M17.41 7.96l-1.37-1.37c-.4-.4-.92-.59-1.43-.59-.52 0-1.04.2-1.43.59L10.3 9.45l-7.72 7.72c-.78.78-.78 2.05 0 2.83L4 21.41c.39.39.9.59 1.41.59.51 0 1.02-.2 1.41-.59l7.78-7.78 2.81-2.81c.8-.78.8-2.07 0-2.86zM5.41 20L4 18.59l7.72-7.72 1.47 1.35L5.41 20z\"/>\n",
              "  </svg>\n",
              "      </button>\n",
              "      \n",
              "  <style>\n",
              "    .colab-df-container {\n",
              "      display:flex;\n",
              "      flex-wrap:wrap;\n",
              "      gap: 12px;\n",
              "    }\n",
              "\n",
              "    .colab-df-convert {\n",
              "      background-color: #E8F0FE;\n",
              "      border: none;\n",
              "      border-radius: 50%;\n",
              "      cursor: pointer;\n",
              "      display: none;\n",
              "      fill: #1967D2;\n",
              "      height: 32px;\n",
              "      padding: 0 0 0 0;\n",
              "      width: 32px;\n",
              "    }\n",
              "\n",
              "    .colab-df-convert:hover {\n",
              "      background-color: #E2EBFA;\n",
              "      box-shadow: 0px 1px 2px rgba(60, 64, 67, 0.3), 0px 1px 3px 1px rgba(60, 64, 67, 0.15);\n",
              "      fill: #174EA6;\n",
              "    }\n",
              "\n",
              "    [theme=dark] .colab-df-convert {\n",
              "      background-color: #3B4455;\n",
              "      fill: #D2E3FC;\n",
              "    }\n",
              "\n",
              "    [theme=dark] .colab-df-convert:hover {\n",
              "      background-color: #434B5C;\n",
              "      box-shadow: 0px 1px 3px 1px rgba(0, 0, 0, 0.15);\n",
              "      filter: drop-shadow(0px 1px 2px rgba(0, 0, 0, 0.3));\n",
              "      fill: #FFFFFF;\n",
              "    }\n",
              "  </style>\n",
              "\n",
              "      <script>\n",
              "        const buttonEl =\n",
              "          document.querySelector('#df-17666da6-d6d9-49ee-8815-741cdd0620e7 button.colab-df-convert');\n",
              "        buttonEl.style.display =\n",
              "          google.colab.kernel.accessAllowed ? 'block' : 'none';\n",
              "\n",
              "        async function convertToInteractive(key) {\n",
              "          const element = document.querySelector('#df-17666da6-d6d9-49ee-8815-741cdd0620e7');\n",
              "          const dataTable =\n",
              "            await google.colab.kernel.invokeFunction('convertToInteractive',\n",
              "                                                     [key], {});\n",
              "          if (!dataTable) return;\n",
              "\n",
              "          const docLinkHtml = 'Like what you see? Visit the ' +\n",
              "            '<a target=\"_blank\" href=https://colab.research.google.com/notebooks/data_table.ipynb>data table notebook</a>'\n",
              "            + ' to learn more about interactive tables.';\n",
              "          element.innerHTML = '';\n",
              "          dataTable['output_type'] = 'display_data';\n",
              "          await google.colab.output.renderOutput(dataTable, element);\n",
              "          const docLink = document.createElement('div');\n",
              "          docLink.innerHTML = docLinkHtml;\n",
              "          element.appendChild(docLink);\n",
              "        }\n",
              "      </script>\n",
              "    </div>\n",
              "  </div>\n",
              "  "
            ]
          },
          "metadata": {},
          "execution_count": 4
        }
      ]
    },
    {
      "cell_type": "code",
      "source": [
        "# check null values\n",
        "ad.info()"
      ],
      "metadata": {
        "colab": {
          "base_uri": "https://localhost:8080/"
        },
        "id": "ZxUn201vrKxG",
        "outputId": "16902e20-060e-432a-c0eb-31fe086f22c8"
      },
      "execution_count": 5,
      "outputs": [
        {
          "output_type": "stream",
          "name": "stdout",
          "text": [
            "<class 'pandas.core.frame.DataFrame'>\n",
            "RangeIndex: 1143 entries, 0 to 1142\n",
            "Data columns (total 11 columns):\n",
            " #   Column               Non-Null Count  Dtype  \n",
            "---  ------               --------------  -----  \n",
            " 0   ad_id                1143 non-null   int64  \n",
            " 1   xyz_campaign_id      1143 non-null   int64  \n",
            " 2   fb_campaign_id       1143 non-null   int64  \n",
            " 3   age                  1143 non-null   object \n",
            " 4   gender               1143 non-null   object \n",
            " 5   interest             1143 non-null   int64  \n",
            " 6   Impressions          1143 non-null   int64  \n",
            " 7   Clicks               1143 non-null   int64  \n",
            " 8   Spent                1143 non-null   float64\n",
            " 9   Total_Conversion     1143 non-null   int64  \n",
            " 10  Approved_Conversion  1143 non-null   int64  \n",
            "dtypes: float64(1), int64(8), object(2)\n",
            "memory usage: 98.4+ KB\n"
          ]
        }
      ]
    },
    {
      "cell_type": "code",
      "source": [
        "# modify datatype of several columns \n",
        "ad['interest']=ad['interest'].astype('object',copy=False )\n",
        "ad['Spent']= ad['Spent'].astype('int64')\n",
        "ad['ad_id']= ad['Spent'].astype('int64')"
      ],
      "metadata": {
        "id": "wlBqUV5ErL_S"
      },
      "execution_count": 6,
      "outputs": []
    },
    {
      "cell_type": "markdown",
      "source": [
        "**Add New Indicator + Drop Irrelavant Column**"
      ],
      "metadata": {
        "id": "OTkttUKnsV8x"
      }
    },
    {
      "cell_type": "code",
      "source": [
        "# drop \"fb_campaign_id\" column, which won't be used in the analysis\n",
        "ad= ad.drop('fb_campaign_id',axis=1)"
      ],
      "metadata": {
        "id": "nr3J20OhrOQv"
      },
      "execution_count": 7,
      "outputs": []
    },
    {
      "cell_type": "code",
      "source": [
        "# add new indicators as columns\n",
        "ad['CPM']= ad['Spent']/ad['Impressions']*1000\n",
        "ad['CPC']= ad['Spent']/ad['Clicks']\n",
        "ad['CPA']= ad['Spent']/ad['Total_Conversion']\n",
        "\n",
        "\n",
        "#supposing each Approved_Conversion worth 100 euros\n",
        "ad['revenue']=ad['Approved_Conversion']*100\n",
        "ad['profit']= ad.revenue-ad.Spent"
      ],
      "metadata": {
        "id": "gg4k3AvJrPkn"
      },
      "execution_count": 8,
      "outputs": []
    },
    {
      "cell_type": "code",
      "source": [
        "# check result\n",
        "ad.sample(5)"
      ],
      "metadata": {
        "colab": {
          "base_uri": "https://localhost:8080/",
          "height": 357
        },
        "id": "JS8Wi4JorRNk",
        "outputId": "dbcee9be-a412-473d-b67b-d9022e516808"
      },
      "execution_count": 9,
      "outputs": [
        {
          "output_type": "execute_result",
          "data": {
            "text/plain": [
              "      ad_id  xyz_campaign_id    age gender interest  Impressions  Clicks  \\\n",
              "597      59             1178  30-34      M       63       287976      31   \n",
              "1051     27             1178  30-34      M      103       189761      18   \n",
              "385      10              936  35-39      F       27        18421       7   \n",
              "788      33             1178  45-49      M       23        99698      21   \n",
              "848      33             1178  30-34      F       21       119772      20   \n",
              "\n",
              "      Spent  Total_Conversion  Approved_Conversion       CPM       CPC  \\\n",
              "597      59                 3                    2  0.204878  1.903226   \n",
              "1051     27                 4                    1  0.142284  1.500000   \n",
              "385      10                 1                    0  0.542859  1.428571   \n",
              "788      33                 1                    0  0.331000  1.571429   \n",
              "848      33                 5                    2  0.275523  1.650000   \n",
              "\n",
              "            CPA  revenue  profit  \n",
              "597   19.666667      200     141  \n",
              "1051   6.750000      100      73  \n",
              "385   10.000000        0     -10  \n",
              "788   33.000000        0     -33  \n",
              "848    6.600000      200     167  "
            ],
            "text/html": [
              "\n",
              "  <div id=\"df-93000933-8583-4cc9-923e-83b88fb42d23\">\n",
              "    <div class=\"colab-df-container\">\n",
              "      <div>\n",
              "<style scoped>\n",
              "    .dataframe tbody tr th:only-of-type {\n",
              "        vertical-align: middle;\n",
              "    }\n",
              "\n",
              "    .dataframe tbody tr th {\n",
              "        vertical-align: top;\n",
              "    }\n",
              "\n",
              "    .dataframe thead th {\n",
              "        text-align: right;\n",
              "    }\n",
              "</style>\n",
              "<table border=\"1\" class=\"dataframe\">\n",
              "  <thead>\n",
              "    <tr style=\"text-align: right;\">\n",
              "      <th></th>\n",
              "      <th>ad_id</th>\n",
              "      <th>xyz_campaign_id</th>\n",
              "      <th>age</th>\n",
              "      <th>gender</th>\n",
              "      <th>interest</th>\n",
              "      <th>Impressions</th>\n",
              "      <th>Clicks</th>\n",
              "      <th>Spent</th>\n",
              "      <th>Total_Conversion</th>\n",
              "      <th>Approved_Conversion</th>\n",
              "      <th>CPM</th>\n",
              "      <th>CPC</th>\n",
              "      <th>CPA</th>\n",
              "      <th>revenue</th>\n",
              "      <th>profit</th>\n",
              "    </tr>\n",
              "  </thead>\n",
              "  <tbody>\n",
              "    <tr>\n",
              "      <th>597</th>\n",
              "      <td>59</td>\n",
              "      <td>1178</td>\n",
              "      <td>30-34</td>\n",
              "      <td>M</td>\n",
              "      <td>63</td>\n",
              "      <td>287976</td>\n",
              "      <td>31</td>\n",
              "      <td>59</td>\n",
              "      <td>3</td>\n",
              "      <td>2</td>\n",
              "      <td>0.204878</td>\n",
              "      <td>1.903226</td>\n",
              "      <td>19.666667</td>\n",
              "      <td>200</td>\n",
              "      <td>141</td>\n",
              "    </tr>\n",
              "    <tr>\n",
              "      <th>1051</th>\n",
              "      <td>27</td>\n",
              "      <td>1178</td>\n",
              "      <td>30-34</td>\n",
              "      <td>M</td>\n",
              "      <td>103</td>\n",
              "      <td>189761</td>\n",
              "      <td>18</td>\n",
              "      <td>27</td>\n",
              "      <td>4</td>\n",
              "      <td>1</td>\n",
              "      <td>0.142284</td>\n",
              "      <td>1.500000</td>\n",
              "      <td>6.750000</td>\n",
              "      <td>100</td>\n",
              "      <td>73</td>\n",
              "    </tr>\n",
              "    <tr>\n",
              "      <th>385</th>\n",
              "      <td>10</td>\n",
              "      <td>936</td>\n",
              "      <td>35-39</td>\n",
              "      <td>F</td>\n",
              "      <td>27</td>\n",
              "      <td>18421</td>\n",
              "      <td>7</td>\n",
              "      <td>10</td>\n",
              "      <td>1</td>\n",
              "      <td>0</td>\n",
              "      <td>0.542859</td>\n",
              "      <td>1.428571</td>\n",
              "      <td>10.000000</td>\n",
              "      <td>0</td>\n",
              "      <td>-10</td>\n",
              "    </tr>\n",
              "    <tr>\n",
              "      <th>788</th>\n",
              "      <td>33</td>\n",
              "      <td>1178</td>\n",
              "      <td>45-49</td>\n",
              "      <td>M</td>\n",
              "      <td>23</td>\n",
              "      <td>99698</td>\n",
              "      <td>21</td>\n",
              "      <td>33</td>\n",
              "      <td>1</td>\n",
              "      <td>0</td>\n",
              "      <td>0.331000</td>\n",
              "      <td>1.571429</td>\n",
              "      <td>33.000000</td>\n",
              "      <td>0</td>\n",
              "      <td>-33</td>\n",
              "    </tr>\n",
              "    <tr>\n",
              "      <th>848</th>\n",
              "      <td>33</td>\n",
              "      <td>1178</td>\n",
              "      <td>30-34</td>\n",
              "      <td>F</td>\n",
              "      <td>21</td>\n",
              "      <td>119772</td>\n",
              "      <td>20</td>\n",
              "      <td>33</td>\n",
              "      <td>5</td>\n",
              "      <td>2</td>\n",
              "      <td>0.275523</td>\n",
              "      <td>1.650000</td>\n",
              "      <td>6.600000</td>\n",
              "      <td>200</td>\n",
              "      <td>167</td>\n",
              "    </tr>\n",
              "  </tbody>\n",
              "</table>\n",
              "</div>\n",
              "      <button class=\"colab-df-convert\" onclick=\"convertToInteractive('df-93000933-8583-4cc9-923e-83b88fb42d23')\"\n",
              "              title=\"Convert this dataframe to an interactive table.\"\n",
              "              style=\"display:none;\">\n",
              "        \n",
              "  <svg xmlns=\"http://www.w3.org/2000/svg\" height=\"24px\"viewBox=\"0 0 24 24\"\n",
              "       width=\"24px\">\n",
              "    <path d=\"M0 0h24v24H0V0z\" fill=\"none\"/>\n",
              "    <path d=\"M18.56 5.44l.94 2.06.94-2.06 2.06-.94-2.06-.94-.94-2.06-.94 2.06-2.06.94zm-11 1L8.5 8.5l.94-2.06 2.06-.94-2.06-.94L8.5 2.5l-.94 2.06-2.06.94zm10 10l.94 2.06.94-2.06 2.06-.94-2.06-.94-.94-2.06-.94 2.06-2.06.94z\"/><path d=\"M17.41 7.96l-1.37-1.37c-.4-.4-.92-.59-1.43-.59-.52 0-1.04.2-1.43.59L10.3 9.45l-7.72 7.72c-.78.78-.78 2.05 0 2.83L4 21.41c.39.39.9.59 1.41.59.51 0 1.02-.2 1.41-.59l7.78-7.78 2.81-2.81c.8-.78.8-2.07 0-2.86zM5.41 20L4 18.59l7.72-7.72 1.47 1.35L5.41 20z\"/>\n",
              "  </svg>\n",
              "      </button>\n",
              "      \n",
              "  <style>\n",
              "    .colab-df-container {\n",
              "      display:flex;\n",
              "      flex-wrap:wrap;\n",
              "      gap: 12px;\n",
              "    }\n",
              "\n",
              "    .colab-df-convert {\n",
              "      background-color: #E8F0FE;\n",
              "      border: none;\n",
              "      border-radius: 50%;\n",
              "      cursor: pointer;\n",
              "      display: none;\n",
              "      fill: #1967D2;\n",
              "      height: 32px;\n",
              "      padding: 0 0 0 0;\n",
              "      width: 32px;\n",
              "    }\n",
              "\n",
              "    .colab-df-convert:hover {\n",
              "      background-color: #E2EBFA;\n",
              "      box-shadow: 0px 1px 2px rgba(60, 64, 67, 0.3), 0px 1px 3px 1px rgba(60, 64, 67, 0.15);\n",
              "      fill: #174EA6;\n",
              "    }\n",
              "\n",
              "    [theme=dark] .colab-df-convert {\n",
              "      background-color: #3B4455;\n",
              "      fill: #D2E3FC;\n",
              "    }\n",
              "\n",
              "    [theme=dark] .colab-df-convert:hover {\n",
              "      background-color: #434B5C;\n",
              "      box-shadow: 0px 1px 3px 1px rgba(0, 0, 0, 0.15);\n",
              "      filter: drop-shadow(0px 1px 2px rgba(0, 0, 0, 0.3));\n",
              "      fill: #FFFFFF;\n",
              "    }\n",
              "  </style>\n",
              "\n",
              "      <script>\n",
              "        const buttonEl =\n",
              "          document.querySelector('#df-93000933-8583-4cc9-923e-83b88fb42d23 button.colab-df-convert');\n",
              "        buttonEl.style.display =\n",
              "          google.colab.kernel.accessAllowed ? 'block' : 'none';\n",
              "\n",
              "        async function convertToInteractive(key) {\n",
              "          const element = document.querySelector('#df-93000933-8583-4cc9-923e-83b88fb42d23');\n",
              "          const dataTable =\n",
              "            await google.colab.kernel.invokeFunction('convertToInteractive',\n",
              "                                                     [key], {});\n",
              "          if (!dataTable) return;\n",
              "\n",
              "          const docLinkHtml = 'Like what you see? Visit the ' +\n",
              "            '<a target=\"_blank\" href=https://colab.research.google.com/notebooks/data_table.ipynb>data table notebook</a>'\n",
              "            + ' to learn more about interactive tables.';\n",
              "          element.innerHTML = '';\n",
              "          dataTable['output_type'] = 'display_data';\n",
              "          await google.colab.output.renderOutput(dataTable, element);\n",
              "          const docLink = document.createElement('div');\n",
              "          docLink.innerHTML = docLinkHtml;\n",
              "          element.appendChild(docLink);\n",
              "        }\n",
              "      </script>\n",
              "    </div>\n",
              "  </div>\n",
              "  "
            ]
          },
          "metadata": {},
          "execution_count": 9
        }
      ]
    },
    {
      "cell_type": "markdown",
      "source": [
        "**OPTIMISATION ANALYSIS**"
      ],
      "metadata": {
        "id": "dOvQmpVDsJTk"
      }
    },
    {
      "cell_type": "markdown",
      "source": [
        "***Correlation Matrix***"
      ],
      "metadata": {
        "id": "rwIB8FGzsMt7"
      }
    },
    {
      "cell_type": "code",
      "source": [
        "ad.corr()"
      ],
      "metadata": {
        "colab": {
          "base_uri": "https://localhost:8080/",
          "height": 489
        },
        "id": "QokcoEODrS7B",
        "outputId": "21eb19f5-09d8-4c39-f862-941674e2a274"
      },
      "execution_count": 10,
      "outputs": [
        {
          "output_type": "execute_result",
          "data": {
            "text/plain": [
              "                        ad_id  xyz_campaign_id  Impressions    Clicks  \\\n",
              "ad_id                1.000000         0.475902     0.970369  0.992903   \n",
              "xyz_campaign_id      0.475902         1.000000     0.495273  0.469729   \n",
              "Impressions          0.970369         0.495273     1.000000  0.948514   \n",
              "Clicks               0.992903         0.469729     0.948514  1.000000   \n",
              "Spent                1.000000         0.475902     0.970369  0.992903   \n",
              "Total_Conversion     0.725464         0.346684     0.812838  0.694632   \n",
              "Approved_Conversion  0.593210         0.284968     0.684249  0.559526   \n",
              "CPM                  0.280018         0.194740     0.215433  0.288919   \n",
              "CPC                  0.314461         0.570105     0.341867  0.275442   \n",
              "CPA                  0.519411         0.428394     0.433476  0.531294   \n",
              "revenue              0.593210         0.284968     0.684249  0.559526   \n",
              "profit               0.115320         0.058161     0.245921  0.078134   \n",
              "\n",
              "                        Spent  Total_Conversion  Approved_Conversion  \\\n",
              "ad_id                1.000000          0.725464             0.593210   \n",
              "xyz_campaign_id      0.475902          0.346684             0.284968   \n",
              "Impressions          0.970369          0.812838             0.684249   \n",
              "Clicks               0.992903          0.694632             0.559526   \n",
              "Spent                1.000000          0.725464             0.593210   \n",
              "Total_Conversion     0.725464          1.000000             0.864034   \n",
              "Approved_Conversion  0.593210          0.864034             1.000000   \n",
              "CPM                  0.280018          0.102869             0.069216   \n",
              "CPC                  0.314461          0.245148             0.218813   \n",
              "CPA                  0.519411          0.050166             0.013095   \n",
              "revenue              0.593210          0.864034             1.000000   \n",
              "profit               0.115320          0.618769             0.868086   \n",
              "\n",
              "                          CPM       CPC       CPA   revenue    profit  \n",
              "ad_id                0.280018  0.314461  0.519411  0.593210  0.115320  \n",
              "xyz_campaign_id      0.194740  0.570105  0.428394  0.284968  0.058161  \n",
              "Impressions          0.215433  0.341867  0.433476  0.684249  0.245921  \n",
              "Clicks               0.288919  0.275442  0.531294  0.559526  0.078134  \n",
              "Spent                0.280018  0.314461  0.519411  0.593210  0.115320  \n",
              "Total_Conversion     0.102869  0.245148  0.050166  0.864034  0.618769  \n",
              "Approved_Conversion  0.069216  0.218813  0.013095  1.000000  0.868086  \n",
              "CPM                  1.000000  0.269513  0.373752  0.069216 -0.087263  \n",
              "CPC                  0.269513  1.000000  0.295062  0.218813  0.079033  \n",
              "CPA                  0.373752  0.295062  1.000000  0.013095 -0.304166  \n",
              "revenue              0.069216  0.218813  0.013095  1.000000  0.868086  \n",
              "profit              -0.087263  0.079033 -0.304166  0.868086  1.000000  "
            ],
            "text/html": [
              "\n",
              "  <div id=\"df-36a2cac4-6d6f-4e97-8ecf-05bd7e546c87\">\n",
              "    <div class=\"colab-df-container\">\n",
              "      <div>\n",
              "<style scoped>\n",
              "    .dataframe tbody tr th:only-of-type {\n",
              "        vertical-align: middle;\n",
              "    }\n",
              "\n",
              "    .dataframe tbody tr th {\n",
              "        vertical-align: top;\n",
              "    }\n",
              "\n",
              "    .dataframe thead th {\n",
              "        text-align: right;\n",
              "    }\n",
              "</style>\n",
              "<table border=\"1\" class=\"dataframe\">\n",
              "  <thead>\n",
              "    <tr style=\"text-align: right;\">\n",
              "      <th></th>\n",
              "      <th>ad_id</th>\n",
              "      <th>xyz_campaign_id</th>\n",
              "      <th>Impressions</th>\n",
              "      <th>Clicks</th>\n",
              "      <th>Spent</th>\n",
              "      <th>Total_Conversion</th>\n",
              "      <th>Approved_Conversion</th>\n",
              "      <th>CPM</th>\n",
              "      <th>CPC</th>\n",
              "      <th>CPA</th>\n",
              "      <th>revenue</th>\n",
              "      <th>profit</th>\n",
              "    </tr>\n",
              "  </thead>\n",
              "  <tbody>\n",
              "    <tr>\n",
              "      <th>ad_id</th>\n",
              "      <td>1.000000</td>\n",
              "      <td>0.475902</td>\n",
              "      <td>0.970369</td>\n",
              "      <td>0.992903</td>\n",
              "      <td>1.000000</td>\n",
              "      <td>0.725464</td>\n",
              "      <td>0.593210</td>\n",
              "      <td>0.280018</td>\n",
              "      <td>0.314461</td>\n",
              "      <td>0.519411</td>\n",
              "      <td>0.593210</td>\n",
              "      <td>0.115320</td>\n",
              "    </tr>\n",
              "    <tr>\n",
              "      <th>xyz_campaign_id</th>\n",
              "      <td>0.475902</td>\n",
              "      <td>1.000000</td>\n",
              "      <td>0.495273</td>\n",
              "      <td>0.469729</td>\n",
              "      <td>0.475902</td>\n",
              "      <td>0.346684</td>\n",
              "      <td>0.284968</td>\n",
              "      <td>0.194740</td>\n",
              "      <td>0.570105</td>\n",
              "      <td>0.428394</td>\n",
              "      <td>0.284968</td>\n",
              "      <td>0.058161</td>\n",
              "    </tr>\n",
              "    <tr>\n",
              "      <th>Impressions</th>\n",
              "      <td>0.970369</td>\n",
              "      <td>0.495273</td>\n",
              "      <td>1.000000</td>\n",
              "      <td>0.948514</td>\n",
              "      <td>0.970369</td>\n",
              "      <td>0.812838</td>\n",
              "      <td>0.684249</td>\n",
              "      <td>0.215433</td>\n",
              "      <td>0.341867</td>\n",
              "      <td>0.433476</td>\n",
              "      <td>0.684249</td>\n",
              "      <td>0.245921</td>\n",
              "    </tr>\n",
              "    <tr>\n",
              "      <th>Clicks</th>\n",
              "      <td>0.992903</td>\n",
              "      <td>0.469729</td>\n",
              "      <td>0.948514</td>\n",
              "      <td>1.000000</td>\n",
              "      <td>0.992903</td>\n",
              "      <td>0.694632</td>\n",
              "      <td>0.559526</td>\n",
              "      <td>0.288919</td>\n",
              "      <td>0.275442</td>\n",
              "      <td>0.531294</td>\n",
              "      <td>0.559526</td>\n",
              "      <td>0.078134</td>\n",
              "    </tr>\n",
              "    <tr>\n",
              "      <th>Spent</th>\n",
              "      <td>1.000000</td>\n",
              "      <td>0.475902</td>\n",
              "      <td>0.970369</td>\n",
              "      <td>0.992903</td>\n",
              "      <td>1.000000</td>\n",
              "      <td>0.725464</td>\n",
              "      <td>0.593210</td>\n",
              "      <td>0.280018</td>\n",
              "      <td>0.314461</td>\n",
              "      <td>0.519411</td>\n",
              "      <td>0.593210</td>\n",
              "      <td>0.115320</td>\n",
              "    </tr>\n",
              "    <tr>\n",
              "      <th>Total_Conversion</th>\n",
              "      <td>0.725464</td>\n",
              "      <td>0.346684</td>\n",
              "      <td>0.812838</td>\n",
              "      <td>0.694632</td>\n",
              "      <td>0.725464</td>\n",
              "      <td>1.000000</td>\n",
              "      <td>0.864034</td>\n",
              "      <td>0.102869</td>\n",
              "      <td>0.245148</td>\n",
              "      <td>0.050166</td>\n",
              "      <td>0.864034</td>\n",
              "      <td>0.618769</td>\n",
              "    </tr>\n",
              "    <tr>\n",
              "      <th>Approved_Conversion</th>\n",
              "      <td>0.593210</td>\n",
              "      <td>0.284968</td>\n",
              "      <td>0.684249</td>\n",
              "      <td>0.559526</td>\n",
              "      <td>0.593210</td>\n",
              "      <td>0.864034</td>\n",
              "      <td>1.000000</td>\n",
              "      <td>0.069216</td>\n",
              "      <td>0.218813</td>\n",
              "      <td>0.013095</td>\n",
              "      <td>1.000000</td>\n",
              "      <td>0.868086</td>\n",
              "    </tr>\n",
              "    <tr>\n",
              "      <th>CPM</th>\n",
              "      <td>0.280018</td>\n",
              "      <td>0.194740</td>\n",
              "      <td>0.215433</td>\n",
              "      <td>0.288919</td>\n",
              "      <td>0.280018</td>\n",
              "      <td>0.102869</td>\n",
              "      <td>0.069216</td>\n",
              "      <td>1.000000</td>\n",
              "      <td>0.269513</td>\n",
              "      <td>0.373752</td>\n",
              "      <td>0.069216</td>\n",
              "      <td>-0.087263</td>\n",
              "    </tr>\n",
              "    <tr>\n",
              "      <th>CPC</th>\n",
              "      <td>0.314461</td>\n",
              "      <td>0.570105</td>\n",
              "      <td>0.341867</td>\n",
              "      <td>0.275442</td>\n",
              "      <td>0.314461</td>\n",
              "      <td>0.245148</td>\n",
              "      <td>0.218813</td>\n",
              "      <td>0.269513</td>\n",
              "      <td>1.000000</td>\n",
              "      <td>0.295062</td>\n",
              "      <td>0.218813</td>\n",
              "      <td>0.079033</td>\n",
              "    </tr>\n",
              "    <tr>\n",
              "      <th>CPA</th>\n",
              "      <td>0.519411</td>\n",
              "      <td>0.428394</td>\n",
              "      <td>0.433476</td>\n",
              "      <td>0.531294</td>\n",
              "      <td>0.519411</td>\n",
              "      <td>0.050166</td>\n",
              "      <td>0.013095</td>\n",
              "      <td>0.373752</td>\n",
              "      <td>0.295062</td>\n",
              "      <td>1.000000</td>\n",
              "      <td>0.013095</td>\n",
              "      <td>-0.304166</td>\n",
              "    </tr>\n",
              "    <tr>\n",
              "      <th>revenue</th>\n",
              "      <td>0.593210</td>\n",
              "      <td>0.284968</td>\n",
              "      <td>0.684249</td>\n",
              "      <td>0.559526</td>\n",
              "      <td>0.593210</td>\n",
              "      <td>0.864034</td>\n",
              "      <td>1.000000</td>\n",
              "      <td>0.069216</td>\n",
              "      <td>0.218813</td>\n",
              "      <td>0.013095</td>\n",
              "      <td>1.000000</td>\n",
              "      <td>0.868086</td>\n",
              "    </tr>\n",
              "    <tr>\n",
              "      <th>profit</th>\n",
              "      <td>0.115320</td>\n",
              "      <td>0.058161</td>\n",
              "      <td>0.245921</td>\n",
              "      <td>0.078134</td>\n",
              "      <td>0.115320</td>\n",
              "      <td>0.618769</td>\n",
              "      <td>0.868086</td>\n",
              "      <td>-0.087263</td>\n",
              "      <td>0.079033</td>\n",
              "      <td>-0.304166</td>\n",
              "      <td>0.868086</td>\n",
              "      <td>1.000000</td>\n",
              "    </tr>\n",
              "  </tbody>\n",
              "</table>\n",
              "</div>\n",
              "      <button class=\"colab-df-convert\" onclick=\"convertToInteractive('df-36a2cac4-6d6f-4e97-8ecf-05bd7e546c87')\"\n",
              "              title=\"Convert this dataframe to an interactive table.\"\n",
              "              style=\"display:none;\">\n",
              "        \n",
              "  <svg xmlns=\"http://www.w3.org/2000/svg\" height=\"24px\"viewBox=\"0 0 24 24\"\n",
              "       width=\"24px\">\n",
              "    <path d=\"M0 0h24v24H0V0z\" fill=\"none\"/>\n",
              "    <path d=\"M18.56 5.44l.94 2.06.94-2.06 2.06-.94-2.06-.94-.94-2.06-.94 2.06-2.06.94zm-11 1L8.5 8.5l.94-2.06 2.06-.94-2.06-.94L8.5 2.5l-.94 2.06-2.06.94zm10 10l.94 2.06.94-2.06 2.06-.94-2.06-.94-.94-2.06-.94 2.06-2.06.94z\"/><path d=\"M17.41 7.96l-1.37-1.37c-.4-.4-.92-.59-1.43-.59-.52 0-1.04.2-1.43.59L10.3 9.45l-7.72 7.72c-.78.78-.78 2.05 0 2.83L4 21.41c.39.39.9.59 1.41.59.51 0 1.02-.2 1.41-.59l7.78-7.78 2.81-2.81c.8-.78.8-2.07 0-2.86zM5.41 20L4 18.59l7.72-7.72 1.47 1.35L5.41 20z\"/>\n",
              "  </svg>\n",
              "      </button>\n",
              "      \n",
              "  <style>\n",
              "    .colab-df-container {\n",
              "      display:flex;\n",
              "      flex-wrap:wrap;\n",
              "      gap: 12px;\n",
              "    }\n",
              "\n",
              "    .colab-df-convert {\n",
              "      background-color: #E8F0FE;\n",
              "      border: none;\n",
              "      border-radius: 50%;\n",
              "      cursor: pointer;\n",
              "      display: none;\n",
              "      fill: #1967D2;\n",
              "      height: 32px;\n",
              "      padding: 0 0 0 0;\n",
              "      width: 32px;\n",
              "    }\n",
              "\n",
              "    .colab-df-convert:hover {\n",
              "      background-color: #E2EBFA;\n",
              "      box-shadow: 0px 1px 2px rgba(60, 64, 67, 0.3), 0px 1px 3px 1px rgba(60, 64, 67, 0.15);\n",
              "      fill: #174EA6;\n",
              "    }\n",
              "\n",
              "    [theme=dark] .colab-df-convert {\n",
              "      background-color: #3B4455;\n",
              "      fill: #D2E3FC;\n",
              "    }\n",
              "\n",
              "    [theme=dark] .colab-df-convert:hover {\n",
              "      background-color: #434B5C;\n",
              "      box-shadow: 0px 1px 3px 1px rgba(0, 0, 0, 0.15);\n",
              "      filter: drop-shadow(0px 1px 2px rgba(0, 0, 0, 0.3));\n",
              "      fill: #FFFFFF;\n",
              "    }\n",
              "  </style>\n",
              "\n",
              "      <script>\n",
              "        const buttonEl =\n",
              "          document.querySelector('#df-36a2cac4-6d6f-4e97-8ecf-05bd7e546c87 button.colab-df-convert');\n",
              "        buttonEl.style.display =\n",
              "          google.colab.kernel.accessAllowed ? 'block' : 'none';\n",
              "\n",
              "        async function convertToInteractive(key) {\n",
              "          const element = document.querySelector('#df-36a2cac4-6d6f-4e97-8ecf-05bd7e546c87');\n",
              "          const dataTable =\n",
              "            await google.colab.kernel.invokeFunction('convertToInteractive',\n",
              "                                                     [key], {});\n",
              "          if (!dataTable) return;\n",
              "\n",
              "          const docLinkHtml = 'Like what you see? Visit the ' +\n",
              "            '<a target=\"_blank\" href=https://colab.research.google.com/notebooks/data_table.ipynb>data table notebook</a>'\n",
              "            + ' to learn more about interactive tables.';\n",
              "          element.innerHTML = '';\n",
              "          dataTable['output_type'] = 'display_data';\n",
              "          await google.colab.output.renderOutput(dataTable, element);\n",
              "          const docLink = document.createElement('div');\n",
              "          docLink.innerHTML = docLinkHtml;\n",
              "          element.appendChild(docLink);\n",
              "        }\n",
              "      </script>\n",
              "    </div>\n",
              "  </div>\n",
              "  "
            ]
          },
          "metadata": {},
          "execution_count": 10
        }
      ]
    },
    {
      "cell_type": "code",
      "source": [
        "ad_num= ad[['revenue','Impressions','Clicks', 'Total_Conversion', 'Spent']]\n",
        "\n",
        "ad_num.sample(3)"
      ],
      "metadata": {
        "colab": {
          "base_uri": "https://localhost:8080/",
          "height": 143
        },
        "id": "NUKsAJXvrU4v",
        "outputId": "619e8bb7-db46-4a73-eee8-d49f759d8c42"
      },
      "execution_count": 11,
      "outputs": [
        {
          "output_type": "execute_result",
          "data": {
            "text/plain": [
              "     revenue  Impressions  Clicks  Total_Conversion  Spent\n",
              "630      100        94257       7                 1     12\n",
              "3          0         4259       1                 1      1\n",
              "445        0         1909       1                 1      0"
            ],
            "text/html": [
              "\n",
              "  <div id=\"df-55b5ee71-0b57-4c30-8096-726d74afa0aa\">\n",
              "    <div class=\"colab-df-container\">\n",
              "      <div>\n",
              "<style scoped>\n",
              "    .dataframe tbody tr th:only-of-type {\n",
              "        vertical-align: middle;\n",
              "    }\n",
              "\n",
              "    .dataframe tbody tr th {\n",
              "        vertical-align: top;\n",
              "    }\n",
              "\n",
              "    .dataframe thead th {\n",
              "        text-align: right;\n",
              "    }\n",
              "</style>\n",
              "<table border=\"1\" class=\"dataframe\">\n",
              "  <thead>\n",
              "    <tr style=\"text-align: right;\">\n",
              "      <th></th>\n",
              "      <th>revenue</th>\n",
              "      <th>Impressions</th>\n",
              "      <th>Clicks</th>\n",
              "      <th>Total_Conversion</th>\n",
              "      <th>Spent</th>\n",
              "    </tr>\n",
              "  </thead>\n",
              "  <tbody>\n",
              "    <tr>\n",
              "      <th>630</th>\n",
              "      <td>100</td>\n",
              "      <td>94257</td>\n",
              "      <td>7</td>\n",
              "      <td>1</td>\n",
              "      <td>12</td>\n",
              "    </tr>\n",
              "    <tr>\n",
              "      <th>3</th>\n",
              "      <td>0</td>\n",
              "      <td>4259</td>\n",
              "      <td>1</td>\n",
              "      <td>1</td>\n",
              "      <td>1</td>\n",
              "    </tr>\n",
              "    <tr>\n",
              "      <th>445</th>\n",
              "      <td>0</td>\n",
              "      <td>1909</td>\n",
              "      <td>1</td>\n",
              "      <td>1</td>\n",
              "      <td>0</td>\n",
              "    </tr>\n",
              "  </tbody>\n",
              "</table>\n",
              "</div>\n",
              "      <button class=\"colab-df-convert\" onclick=\"convertToInteractive('df-55b5ee71-0b57-4c30-8096-726d74afa0aa')\"\n",
              "              title=\"Convert this dataframe to an interactive table.\"\n",
              "              style=\"display:none;\">\n",
              "        \n",
              "  <svg xmlns=\"http://www.w3.org/2000/svg\" height=\"24px\"viewBox=\"0 0 24 24\"\n",
              "       width=\"24px\">\n",
              "    <path d=\"M0 0h24v24H0V0z\" fill=\"none\"/>\n",
              "    <path d=\"M18.56 5.44l.94 2.06.94-2.06 2.06-.94-2.06-.94-.94-2.06-.94 2.06-2.06.94zm-11 1L8.5 8.5l.94-2.06 2.06-.94-2.06-.94L8.5 2.5l-.94 2.06-2.06.94zm10 10l.94 2.06.94-2.06 2.06-.94-2.06-.94-.94-2.06-.94 2.06-2.06.94z\"/><path d=\"M17.41 7.96l-1.37-1.37c-.4-.4-.92-.59-1.43-.59-.52 0-1.04.2-1.43.59L10.3 9.45l-7.72 7.72c-.78.78-.78 2.05 0 2.83L4 21.41c.39.39.9.59 1.41.59.51 0 1.02-.2 1.41-.59l7.78-7.78 2.81-2.81c.8-.78.8-2.07 0-2.86zM5.41 20L4 18.59l7.72-7.72 1.47 1.35L5.41 20z\"/>\n",
              "  </svg>\n",
              "      </button>\n",
              "      \n",
              "  <style>\n",
              "    .colab-df-container {\n",
              "      display:flex;\n",
              "      flex-wrap:wrap;\n",
              "      gap: 12px;\n",
              "    }\n",
              "\n",
              "    .colab-df-convert {\n",
              "      background-color: #E8F0FE;\n",
              "      border: none;\n",
              "      border-radius: 50%;\n",
              "      cursor: pointer;\n",
              "      display: none;\n",
              "      fill: #1967D2;\n",
              "      height: 32px;\n",
              "      padding: 0 0 0 0;\n",
              "      width: 32px;\n",
              "    }\n",
              "\n",
              "    .colab-df-convert:hover {\n",
              "      background-color: #E2EBFA;\n",
              "      box-shadow: 0px 1px 2px rgba(60, 64, 67, 0.3), 0px 1px 3px 1px rgba(60, 64, 67, 0.15);\n",
              "      fill: #174EA6;\n",
              "    }\n",
              "\n",
              "    [theme=dark] .colab-df-convert {\n",
              "      background-color: #3B4455;\n",
              "      fill: #D2E3FC;\n",
              "    }\n",
              "\n",
              "    [theme=dark] .colab-df-convert:hover {\n",
              "      background-color: #434B5C;\n",
              "      box-shadow: 0px 1px 3px 1px rgba(0, 0, 0, 0.15);\n",
              "      filter: drop-shadow(0px 1px 2px rgba(0, 0, 0, 0.3));\n",
              "      fill: #FFFFFF;\n",
              "    }\n",
              "  </style>\n",
              "\n",
              "      <script>\n",
              "        const buttonEl =\n",
              "          document.querySelector('#df-55b5ee71-0b57-4c30-8096-726d74afa0aa button.colab-df-convert');\n",
              "        buttonEl.style.display =\n",
              "          google.colab.kernel.accessAllowed ? 'block' : 'none';\n",
              "\n",
              "        async function convertToInteractive(key) {\n",
              "          const element = document.querySelector('#df-55b5ee71-0b57-4c30-8096-726d74afa0aa');\n",
              "          const dataTable =\n",
              "            await google.colab.kernel.invokeFunction('convertToInteractive',\n",
              "                                                     [key], {});\n",
              "          if (!dataTable) return;\n",
              "\n",
              "          const docLinkHtml = 'Like what you see? Visit the ' +\n",
              "            '<a target=\"_blank\" href=https://colab.research.google.com/notebooks/data_table.ipynb>data table notebook</a>'\n",
              "            + ' to learn more about interactive tables.';\n",
              "          element.innerHTML = '';\n",
              "          dataTable['output_type'] = 'display_data';\n",
              "          await google.colab.output.renderOutput(dataTable, element);\n",
              "          const docLink = document.createElement('div');\n",
              "          docLink.innerHTML = docLinkHtml;\n",
              "          element.appendChild(docLink);\n",
              "        }\n",
              "      </script>\n",
              "    </div>\n",
              "  </div>\n",
              "  "
            ]
          },
          "metadata": {},
          "execution_count": 11
        }
      ]
    },
    {
      "cell_type": "code",
      "source": [
        "xg = sns.heatmap(ad_num.corr(),annot=True,fmt=\".1f\",cmap='coolwarm')\n",
        "plt.suptitle(\"Correlation heatmap of numerical features\")"
      ],
      "metadata": {
        "colab": {
          "base_uri": "https://localhost:8080/",
          "height": 385
        },
        "id": "FBLquzccrWZ6",
        "outputId": "882df149-caf3-450b-d4b9-98cd9e4962cd"
      },
      "execution_count": 12,
      "outputs": [
        {
          "output_type": "execute_result",
          "data": {
            "text/plain": [
              "Text(0.5, 0.98, 'Correlation heatmap of numerical features')"
            ]
          },
          "metadata": {},
          "execution_count": 12
        },
        {
          "output_type": "display_data",
          "data": {
            "text/plain": [
              "<Figure size 432x288 with 2 Axes>"
            ],
            "image/png": "[encoded data removed]"
          },
          "metadata": {
            "needs_background": "light"
          }
        }
      ]
    },
    {
      "cell_type": "code",
      "source": [
        "sns.pairplot(ad_num)"
      ],
      "metadata": {
        "colab": {
          "base_uri": "https://localhost:8080/",
          "height": 843
        },
        "id": "ma9miK_UrXtA",
        "outputId": "dcf06b35-dd5b-42e9-97b1-1ab77805447e"
      },
      "execution_count": 13,
      "outputs": [
        {
          "output_type": "execute_result",
          "data": {
            "text/plain": [
              "<seaborn.axisgrid.PairGrid at 0x7f6463e9e0a0>"
            ]
          },
          "metadata": {},
          "execution_count": 13
        },
        {
          "output_type": "display_data",
          "data": {
            "text/plain": [
              "<Figure size 900x900 with 30 Axes>"
            ],
            "image/png": "[encoded data removed]"
          },
          "metadata": {
            "needs_background": "light"
          }
        }
      ]
    },
    {
      "cell_type": "markdown",
      "source": [
        "Observation:\n",
        "\n",
        "1. \"Total_conversion\" and \"impression\" are more closely related to core indicator \"revenue\" than \"spent\" and \"click\".\n",
        "2. High correlation coefficient\"revenue\" and \"total_conversion\" is not surprising since approved_conversion is the next stage of total_conversion in the conversion funnel.\n"
      ],
      "metadata": {
        "id": "rsBTEHqNr8O1"
      }
    },
    {
      "cell_type": "code",
      "source": [
        "plt.rcParams['figure.figsize']=(5,3)\n",
        "a = pd.pivot_table(data=ad, index='age',values=['Spent','revenue','profit'], aggfunc='mean').plot(kind='bar')\n",
        "\n",
        "plt.suptitle(\"Profit by age\")"
      ],
      "metadata": {
        "colab": {
          "base_uri": "https://localhost:8080/",
          "height": 282
        },
        "id": "5CSDTH4WrZWX",
        "outputId": "6fa3a772-74c6-4d8f-a115-0fee58b4c811"
      },
      "execution_count": 14,
      "outputs": [
        {
          "output_type": "execute_result",
          "data": {
            "text/plain": [
              "Text(0.5, 0.98, 'Profit by age')"
            ]
          },
          "metadata": {},
          "execution_count": 14
        },
        {
          "output_type": "display_data",
          "data": {
            "text/plain": [
              "<Figure size 360x216 with 1 Axes>"
            ],
            "image/png": "[encoded data removed]"
          },
          "metadata": {
            "needs_background": "light"
          }
        }
      ]
    },
    {
      "cell_type": "code",
      "source": [
        "# which age group is willing to pay?\n",
        "\n",
        "a = pd.pivot_table(data=ad, index='gender',values=['Spent','revenue','profit'], aggfunc='mean').plot(kind='bar')\n",
        "\n",
        "plt.suptitle(\"Profit by gender\")"
      ],
      "metadata": {
        "colab": {
          "base_uri": "https://localhost:8080/",
          "height": 262
        },
        "id": "NiPc8Pcxrc_L",
        "outputId": "437366f6-e0f6-41d1-b563-6c298cc75f9e"
      },
      "execution_count": 16,
      "outputs": [
        {
          "output_type": "execute_result",
          "data": {
            "text/plain": [
              "Text(0.5, 0.98, 'Profit by gender')"
            ]
          },
          "metadata": {},
          "execution_count": 16
        },
        {
          "output_type": "display_data",
          "data": {
            "text/plain": [
              "<Figure size 360x216 with 1 Axes>"
            ],
            "image/png": "[encoded data removed]"
          },
          "metadata": {
            "needs_background": "light"
          }
        }
      ]
    },
    {
      "cell_type": "markdown",
      "source": [
        "**Interest+Age**"
      ],
      "metadata": {
        "id": "_R1JqorFr23R"
      }
    },
    {
      "cell_type": "code",
      "source": [
        "# revenue heatmap for interest+ age\n",
        "ia= pd.pivot_table(data=ad,index='interest',columns='age',values='profit',aggfunc=\"mean\",fill_value=0   )\n",
        "\n",
        "sns.set(rc={'figure.figsize':(30,3)})\n",
        "sns.heatmap(ia.T,cmap=\"YlGnBu\");\n",
        "plt.figure(figsize=(20,8))\n",
        "plt.suptitle(\"Profit by age& interest\")"
      ],
      "metadata": {
        "colab": {
          "base_uri": "https://localhost:8080/",
          "height": 165
        },
        "id": "tTP47YfFrezV",
        "outputId": "2ef13a0d-74c0-4d80-cde9-df0d0164c172"
      },
      "execution_count": 17,
      "outputs": [
        {
          "output_type": "execute_result",
          "data": {
            "text/plain": [
              "Text(0.5, 0.98, 'Profit by age& interest')"
            ]
          },
          "metadata": {},
          "execution_count": 17
        },
        {
          "output_type": "display_data",
          "data": {
            "text/plain": [
              "<Figure size 2160x216 with 2 Axes>"
            ],
            "image/png": "[encoded data removed]"
          },
          "metadata": {}
        },
        {
          "output_type": "display_data",
          "data": {
            "text/plain": [
              "<Figure size 1440x576 with 0 Axes>"
            ]
          },
          "metadata": {}
        }
      ]
    },
    {
      "cell_type": "markdown",
      "source": [
        " Observation:\n",
        "\n",
        "In the heatmap above, darker means higher average income.\n",
        "Obviously, combining age and interest group is another direction for optimization.\n",
        "We need to overturn our old impressions of age groups.**"
      ],
      "metadata": {
        "id": "3pTE-XqKrpXe"
      }
    },
    {
      "cell_type": "code",
      "source": [],
      "metadata": {
        "id": "9nstI9RVrqt0"
      },
      "execution_count": null,
      "outputs": []
    }
  ]
}